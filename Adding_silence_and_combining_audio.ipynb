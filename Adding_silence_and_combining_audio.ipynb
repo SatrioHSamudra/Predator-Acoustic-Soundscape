{
  "nbformat": 4,
  "nbformat_minor": 0,
  "metadata": {
    "colab": {
      "provenance": [],
      "authorship_tag": "ABX9TyMWNG65xP7Y9jKi4/FNE5gd",
      "include_colab_link": true
    },
    "kernelspec": {
      "name": "python3",
      "display_name": "Python 3"
    },
    "language_info": {
      "name": "python"
    }
  },
  "cells": [
    {
      "cell_type": "markdown",
      "metadata": {
        "id": "view-in-github",
        "colab_type": "text"
      },
      "source": [
        "<a href=\"https://colab.research.google.com/github/SatrioHSamudra/Predator-Acoustic-Soundscape/blob/main/Adding_silence_and_combining_audio.ipynb\" target=\"_parent\"><img src=\"https://colab.research.google.com/assets/colab-badge.svg\" alt=\"Open In Colab\"/></a>"
      ]
    },
    {
      "cell_type": "code",
      "source": [
        "from google.colab import drive\n",
        "drive.mount('/content/drive')"
      ],
      "metadata": {
        "colab": {
          "base_uri": "https://localhost:8080/"
        },
        "id": "chcOsIhTsmjD",
        "outputId": "4aec5a9e-9485-49c8-8029-5d170829a34b"
      },
      "execution_count": null,
      "outputs": [
        {
          "output_type": "stream",
          "name": "stdout",
          "text": [
            "Mounted at /content/drive\n"
          ]
        }
      ]
    },
    {
      "cell_type": "code",
      "source": [
        "root_dir = \"/content/drive/MyDrive/UCL/MSc_Dissertation/Dummy\"\n",
        "output_dir = \"/content/drive/MyDrive/UCL/MSc_Dissertation/Aligned\""
      ],
      "metadata": {
        "id": "__CrlfVN2wjP"
      },
      "execution_count": null,
      "outputs": []
    },
    {
      "cell_type": "code",
      "source": [
        "!pip install pydub\n",
        "!apt-get install ffmpeg"
      ],
      "metadata": {
        "colab": {
          "base_uri": "https://localhost:8080/"
        },
        "id": "cS-qQ6rIo9Zc",
        "outputId": "46b22830-f536-4db4-e140-9bd00b244b11"
      },
      "execution_count": null,
      "outputs": [
        {
          "output_type": "stream",
          "name": "stdout",
          "text": [
            "Collecting pydub\n",
            "  Downloading pydub-0.25.1-py2.py3-none-any.whl.metadata (1.4 kB)\n",
            "Downloading pydub-0.25.1-py2.py3-none-any.whl (32 kB)\n",
            "Installing collected packages: pydub\n",
            "Successfully installed pydub-0.25.1\n",
            "Reading package lists... Done\n",
            "Building dependency tree... Done\n",
            "Reading state information... Done\n",
            "ffmpeg is already the newest version (7:4.4.2-0ubuntu0.22.04.1).\n",
            "0 upgraded, 0 newly installed, 0 to remove and 35 not upgraded.\n"
          ]
        }
      ]
    },
    {
      "cell_type": "code",
      "execution_count": null,
      "metadata": {
        "colab": {
          "base_uri": "https://localhost:8080/"
        },
        "id": "Wp_hMKMsn4xK",
        "outputId": "d1bd8337-3166-4414-e6ba-260454976920"
      },
      "outputs": [
        {
          "output_type": "stream",
          "name": "stdout",
          "text": [
            "\n",
            "🎉 All sites processed.\n"
          ]
        }
      ],
      "source": [
        "import os\n",
        "import re\n",
        "from collections import defaultdict\n",
        "from pydub import AudioSegment\n",
        "\n",
        "# === PATHS ===\n",
        "# root_dir = \"/content/drive/MyDrive/SurfPerch Demo with Calling in Our Corals Data/Seychelles/raw_audio\"\n",
        "root_dir = \"/content/drive/MyDrive/UCL/MSc_Dissertation/Dummy\"\n",
        "output_dir = \"/content/drive/MyDrive/UCL/MSc_Dissertation/Aligned\"\n",
        "os.makedirs(output_dir, exist_ok=True)\n",
        "\n",
        "# === Silence segment of 3 seconds ===\n",
        "silence = AudioSegment.silent(duration=3000)\n",
        "\n",
        "# === Organize files by site ===\n",
        "site_files = defaultdict(list)\n",
        "\n",
        "for fname in os.listdir(root_dir):\n",
        "    if fname.endswith(\".wav\"):\n",
        "        match = re.match(r\".+_(site\\d+)_(\\d+)\\.wav\", fname)\n",
        "        if match:\n",
        "            site = match.group(1)\n",
        "            order = int(match.group(2))\n",
        "            site_files[site].append((order, fname))\n",
        "\n",
        "# === Process each site ===\n",
        "for site, files in site_files.items():\n",
        "    print(f\"🔧 Processing {site} with {len(files)} files...\")\n",
        "\n",
        "    combined = AudioSegment.empty()\n",
        "\n",
        "    # Sort by the trailing number (_1, _4, etc.)\n",
        "    files.sort(key=lambda x: x[0])\n",
        "\n",
        "    for _, fname in files:\n",
        "        file_path = os.path.join(root_dir, fname)\n",
        "        try:\n",
        "            audio = AudioSegment.from_wav(file_path)\n",
        "            padded = audio + silence\n",
        "            combined += padded\n",
        "        except Exception as e:\n",
        "            print(f\"  ⚠️ Skipping {fname}: {e}\")\n",
        "\n",
        "    # Export one file per site\n",
        "    output_path = os.path.join(output_dir, f\"{site}_combined.wav\")\n",
        "    combined.export(output_path, format=\"wav\")\n",
        "    print(f\"  ✅ Saved to: {output_path}\")\n",
        "\n",
        "print(\"\\n🎉 All sites processed.\")"
      ]
    },
    {
      "cell_type": "code",
      "source": [
        "# === Silence segment of 3 seconds ===\n",
        "silence = AudioSegment.silent(duration=3000)\n",
        "\n",
        "# === Organize files by site ===\n",
        "site_files = defaultdict(list)\n",
        "\n",
        "for fname in os.listdir(root_dir):\n",
        "    if fname.endswith(\".wav\"):\n",
        "        # Updated regex to match \"siteNA2_01\", \"siteNA3_02\", etc.\n",
        "        match = re.match(r\".+_(siteNA\\d+)_(\\d+)\\.wav\", fname)\n",
        "        if match:\n",
        "            site = match.group(1)  # e.g., \"siteNA2\"\n",
        "            order = int(match.group(2))  # e.g., 1, 2, etc.\n",
        "            site_files[site].append((order, fname))\n",
        "\n",
        "# === Process each site ===\n",
        "for site, files in site_files.items():\n",
        "    print(f\"🔧 Processing {site} with {len(files)} files...\")\n",
        "\n",
        "    combined = AudioSegment.empty()\n",
        "\n",
        "    # Sort by the trailing number (_01, _02, etc.)\n",
        "    files.sort(key=lambda x: x[0])\n",
        "\n",
        "    for _, fname in files:\n",
        "        file_path = os.path.join(root_dir, fname)\n",
        "        try:\n",
        "            audio = AudioSegment.from_wav(file_path)\n",
        "            padded = audio + silence\n",
        "            combined += padded\n",
        "        except Exception as e:\n",
        "            print(f\"  ⚠️ Skipping {fname}: {e}\")\n",
        "\n",
        "    # Export one file per site (e.g., \"siteNA2_combined.wav\")\n",
        "    output_path = os.path.join(output_dir, f\"{site}_combined.wav\")\n",
        "    combined.export(output_path, format=\"wav\")\n",
        "    print(f\"  ✅ Saved to: {output_path}\")\n",
        "\n",
        "print(\"\\n🎉 All sites processed.\")"
      ],
      "metadata": {
        "colab": {
          "base_uri": "https://localhost:8080/"
        },
        "id": "biYGGI9MJhsk",
        "outputId": "0c1e27a1-77cb-4a0e-9150-9870fa03e0dc"
      },
      "execution_count": null,
      "outputs": [
        {
          "output_type": "stream",
          "name": "stdout",
          "text": [
            "🔧 Processing siteNA2 with 64 files...\n",
            "  ✅ Saved to: /content/drive/MyDrive/UCL/MSc_Dissertation/Aligned/siteNA2_combined.wav\n",
            "\n",
            "🎉 All sites processed.\n"
          ]
        }
      ]
    }
  ]
}